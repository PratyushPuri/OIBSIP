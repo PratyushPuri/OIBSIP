{
 "cells": [
  {
   "cell_type": "markdown",
   "metadata": {},
   "source": [
    "# OASIS INFOBYTE (TASK-1)  ----- IRIS FLOWER CLASSIFICATION"
   ]
  },
  {
   "cell_type": "markdown",
   "metadata": {},
   "source": [
    "### IMPORTING PACKAGES"
   ]
  },
  {
   "cell_type": "code",
   "execution_count": 36,
   "metadata": {},
   "outputs": [
    {
     "name": "stdout",
     "output_type": "stream",
     "text": [
      "Defaulting to user installation because normal site-packages is not writeable\n",
      "Requirement already satisfied: xgboost in c:\\users\\rishabh goswami\\appdata\\roaming\\python\\python310\\site-packages (1.7.6)\n",
      "Requirement already satisfied: scipy in d:\\anaconda\\lib\\site-packages (from xgboost) (1.10.0)\n",
      "Requirement already satisfied: numpy in d:\\anaconda\\lib\\site-packages (from xgboost) (1.23.5)\n"
     ]
    }
   ],
   "source": [
    "!pip install xgboost"
   ]
  },
  {
   "cell_type": "code",
   "execution_count": 37,
   "metadata": {
    "execution": {
     "iopub.execute_input": "2023-08-13T08:34:34.991948Z",
     "iopub.status.busy": "2023-08-13T08:34:34.991065Z",
     "iopub.status.idle": "2023-08-13T08:34:35.443158Z",
     "shell.execute_reply": "2023-08-13T08:34:35.441783Z",
     "shell.execute_reply.started": "2023-08-13T08:34:34.991596Z"
    }
   },
   "outputs": [],
   "source": [
    "import numpy as np\n",
    "import pandas as pd\n",
    "import matplotlib.pyplot as plt\n",
    "import seaborn as sns"
   ]
  },
  {
   "cell_type": "markdown",
   "metadata": {},
   "source": [
    "### READING DATASET"
   ]
  },
  {
   "cell_type": "code",
   "execution_count": 38,
   "metadata": {
    "execution": {
     "iopub.execute_input": "2023-08-13T08:34:35.450093Z",
     "iopub.status.busy": "2023-08-13T08:34:35.449136Z",
     "iopub.status.idle": "2023-08-13T08:34:35.466524Z",
     "shell.execute_reply": "2023-08-13T08:34:35.464620Z",
     "shell.execute_reply.started": "2023-08-13T08:34:35.450062Z"
    }
   },
   "outputs": [],
   "source": [
    "df=pd.read_csv('Iris.csv')"
   ]
  },
  {
   "cell_type": "markdown",
   "metadata": {},
   "source": [
    "### PREPROCESSING"
   ]
  },
  {
   "cell_type": "code",
   "execution_count": 39,
   "metadata": {
    "execution": {
     "iopub.execute_input": "2023-08-13T08:34:35.471380Z",
     "iopub.status.busy": "2023-08-13T08:34:35.470925Z",
     "iopub.status.idle": "2023-08-13T08:34:35.488292Z",
     "shell.execute_reply": "2023-08-13T08:34:35.486687Z",
     "shell.execute_reply.started": "2023-08-13T08:34:35.471346Z"
    }
   },
   "outputs": [
    {
     "data": {
      "text/html": [
       "<div>\n",
       "<style scoped>\n",
       "    .dataframe tbody tr th:only-of-type {\n",
       "        vertical-align: middle;\n",
       "    }\n",
       "\n",
       "    .dataframe tbody tr th {\n",
       "        vertical-align: top;\n",
       "    }\n",
       "\n",
       "    .dataframe thead th {\n",
       "        text-align: right;\n",
       "    }\n",
       "</style>\n",
       "<table border=\"1\" class=\"dataframe\">\n",
       "  <thead>\n",
       "    <tr style=\"text-align: right;\">\n",
       "      <th></th>\n",
       "      <th>Id</th>\n",
       "      <th>SepalLengthCm</th>\n",
       "      <th>SepalWidthCm</th>\n",
       "      <th>PetalLengthCm</th>\n",
       "      <th>PetalWidthCm</th>\n",
       "      <th>Species</th>\n",
       "    </tr>\n",
       "  </thead>\n",
       "  <tbody>\n",
       "    <tr>\n",
       "      <th>0</th>\n",
       "      <td>1</td>\n",
       "      <td>5.1</td>\n",
       "      <td>3.5</td>\n",
       "      <td>1.4</td>\n",
       "      <td>0.2</td>\n",
       "      <td>Iris-setosa</td>\n",
       "    </tr>\n",
       "    <tr>\n",
       "      <th>1</th>\n",
       "      <td>2</td>\n",
       "      <td>4.9</td>\n",
       "      <td>3.0</td>\n",
       "      <td>1.4</td>\n",
       "      <td>0.2</td>\n",
       "      <td>Iris-setosa</td>\n",
       "    </tr>\n",
       "    <tr>\n",
       "      <th>2</th>\n",
       "      <td>3</td>\n",
       "      <td>4.7</td>\n",
       "      <td>3.2</td>\n",
       "      <td>1.3</td>\n",
       "      <td>0.2</td>\n",
       "      <td>Iris-setosa</td>\n",
       "    </tr>\n",
       "    <tr>\n",
       "      <th>3</th>\n",
       "      <td>4</td>\n",
       "      <td>4.6</td>\n",
       "      <td>3.1</td>\n",
       "      <td>1.5</td>\n",
       "      <td>0.2</td>\n",
       "      <td>Iris-setosa</td>\n",
       "    </tr>\n",
       "    <tr>\n",
       "      <th>4</th>\n",
       "      <td>5</td>\n",
       "      <td>5.0</td>\n",
       "      <td>3.6</td>\n",
       "      <td>1.4</td>\n",
       "      <td>0.2</td>\n",
       "      <td>Iris-setosa</td>\n",
       "    </tr>\n",
       "  </tbody>\n",
       "</table>\n",
       "</div>"
      ],
      "text/plain": [
       "   Id  SepalLengthCm  SepalWidthCm  PetalLengthCm  PetalWidthCm      Species\n",
       "0   1            5.1           3.5            1.4           0.2  Iris-setosa\n",
       "1   2            4.9           3.0            1.4           0.2  Iris-setosa\n",
       "2   3            4.7           3.2            1.3           0.2  Iris-setosa\n",
       "3   4            4.6           3.1            1.5           0.2  Iris-setosa\n",
       "4   5            5.0           3.6            1.4           0.2  Iris-setosa"
      ]
     },
     "execution_count": 39,
     "metadata": {},
     "output_type": "execute_result"
    }
   ],
   "source": [
    "df.head()"
   ]
  },
  {
   "cell_type": "code",
   "execution_count": 40,
   "metadata": {},
   "outputs": [
    {
     "data": {
      "text/plain": [
       "Index(['Id', 'SepalLengthCm', 'SepalWidthCm', 'PetalLengthCm', 'PetalWidthCm',\n",
       "       'Species'],\n",
       "      dtype='object')"
      ]
     },
     "execution_count": 40,
     "metadata": {},
     "output_type": "execute_result"
    }
   ],
   "source": [
    "df.columns"
   ]
  },
  {
   "cell_type": "code",
   "execution_count": 41,
   "metadata": {
    "execution": {
     "iopub.execute_input": "2023-08-13T08:34:35.491676Z",
     "iopub.status.busy": "2023-08-13T08:34:35.491343Z",
     "iopub.status.idle": "2023-08-13T08:34:35.499876Z",
     "shell.execute_reply": "2023-08-13T08:34:35.498455Z",
     "shell.execute_reply.started": "2023-08-13T08:34:35.491644Z"
    }
   },
   "outputs": [
    {
     "data": {
      "text/plain": [
       "(150, 6)"
      ]
     },
     "execution_count": 41,
     "metadata": {},
     "output_type": "execute_result"
    }
   ],
   "source": [
    "df.shape"
   ]
  },
  {
   "cell_type": "code",
   "execution_count": 42,
   "metadata": {
    "execution": {
     "iopub.execute_input": "2023-08-13T08:34:35.504114Z",
     "iopub.status.busy": "2023-08-13T08:34:35.501642Z",
     "iopub.status.idle": "2023-08-13T08:34:35.513741Z",
     "shell.execute_reply": "2023-08-13T08:34:35.512755Z",
     "shell.execute_reply.started": "2023-08-13T08:34:35.504081Z"
    }
   },
   "outputs": [
    {
     "data": {
      "text/plain": [
       "array(['Iris-setosa', 'Iris-versicolor', 'Iris-virginica'], dtype=object)"
      ]
     },
     "execution_count": 42,
     "metadata": {},
     "output_type": "execute_result"
    }
   ],
   "source": [
    "df['Species'].unique()"
   ]
  },
  {
   "cell_type": "code",
   "execution_count": 43,
   "metadata": {
    "execution": {
     "iopub.execute_input": "2023-08-13T08:34:35.517409Z",
     "iopub.status.busy": "2023-08-13T08:34:35.516989Z",
     "iopub.status.idle": "2023-08-13T08:34:35.529578Z",
     "shell.execute_reply": "2023-08-13T08:34:35.528395Z",
     "shell.execute_reply.started": "2023-08-13T08:34:35.517375Z"
    }
   },
   "outputs": [
    {
     "data": {
      "text/plain": [
       "0"
      ]
     },
     "execution_count": 43,
     "metadata": {},
     "output_type": "execute_result"
    }
   ],
   "source": [
    "df.duplicated().sum()"
   ]
  },
  {
   "cell_type": "code",
   "execution_count": 44,
   "metadata": {
    "execution": {
     "iopub.execute_input": "2023-08-13T08:34:35.531607Z",
     "iopub.status.busy": "2023-08-13T08:34:35.531181Z",
     "iopub.status.idle": "2023-08-13T08:34:35.541028Z",
     "shell.execute_reply": "2023-08-13T08:34:35.539886Z",
     "shell.execute_reply.started": "2023-08-13T08:34:35.531572Z"
    }
   },
   "outputs": [],
   "source": [
    "df.drop_duplicates(inplace=True)"
   ]
  },
  {
   "cell_type": "code",
   "execution_count": 45,
   "metadata": {
    "execution": {
     "iopub.execute_input": "2023-08-13T08:34:35.543008Z",
     "iopub.status.busy": "2023-08-13T08:34:35.542623Z",
     "iopub.status.idle": "2023-08-13T08:34:35.563278Z",
     "shell.execute_reply": "2023-08-13T08:34:35.562296Z",
     "shell.execute_reply.started": "2023-08-13T08:34:35.542968Z"
    }
   },
   "outputs": [
    {
     "data": {
      "text/plain": [
       "Id               0\n",
       "SepalLengthCm    0\n",
       "SepalWidthCm     0\n",
       "PetalLengthCm    0\n",
       "PetalWidthCm     0\n",
       "Species          0\n",
       "dtype: int64"
      ]
     },
     "execution_count": 45,
     "metadata": {},
     "output_type": "execute_result"
    }
   ],
   "source": [
    "df.isnull().sum()"
   ]
  },
  {
   "cell_type": "code",
   "execution_count": 46,
   "metadata": {
    "execution": {
     "iopub.execute_input": "2023-08-13T08:34:35.565367Z",
     "iopub.status.busy": "2023-08-13T08:34:35.564754Z",
     "iopub.status.idle": "2023-08-13T08:34:35.592795Z",
     "shell.execute_reply": "2023-08-13T08:34:35.592023Z",
     "shell.execute_reply.started": "2023-08-13T08:34:35.565336Z"
    }
   },
   "outputs": [
    {
     "data": {
      "text/html": [
       "<div>\n",
       "<style scoped>\n",
       "    .dataframe tbody tr th:only-of-type {\n",
       "        vertical-align: middle;\n",
       "    }\n",
       "\n",
       "    .dataframe tbody tr th {\n",
       "        vertical-align: top;\n",
       "    }\n",
       "\n",
       "    .dataframe thead th {\n",
       "        text-align: right;\n",
       "    }\n",
       "</style>\n",
       "<table border=\"1\" class=\"dataframe\">\n",
       "  <thead>\n",
       "    <tr style=\"text-align: right;\">\n",
       "      <th></th>\n",
       "      <th>Id</th>\n",
       "      <th>SepalLengthCm</th>\n",
       "      <th>SepalWidthCm</th>\n",
       "      <th>PetalLengthCm</th>\n",
       "      <th>PetalWidthCm</th>\n",
       "    </tr>\n",
       "  </thead>\n",
       "  <tbody>\n",
       "    <tr>\n",
       "      <th>count</th>\n",
       "      <td>150.000000</td>\n",
       "      <td>150.000000</td>\n",
       "      <td>150.000000</td>\n",
       "      <td>150.000000</td>\n",
       "      <td>150.000000</td>\n",
       "    </tr>\n",
       "    <tr>\n",
       "      <th>mean</th>\n",
       "      <td>75.500000</td>\n",
       "      <td>5.843333</td>\n",
       "      <td>3.054000</td>\n",
       "      <td>3.758667</td>\n",
       "      <td>1.198667</td>\n",
       "    </tr>\n",
       "    <tr>\n",
       "      <th>std</th>\n",
       "      <td>43.445368</td>\n",
       "      <td>0.828066</td>\n",
       "      <td>0.433594</td>\n",
       "      <td>1.764420</td>\n",
       "      <td>0.763161</td>\n",
       "    </tr>\n",
       "    <tr>\n",
       "      <th>min</th>\n",
       "      <td>1.000000</td>\n",
       "      <td>4.300000</td>\n",
       "      <td>2.000000</td>\n",
       "      <td>1.000000</td>\n",
       "      <td>0.100000</td>\n",
       "    </tr>\n",
       "    <tr>\n",
       "      <th>25%</th>\n",
       "      <td>38.250000</td>\n",
       "      <td>5.100000</td>\n",
       "      <td>2.800000</td>\n",
       "      <td>1.600000</td>\n",
       "      <td>0.300000</td>\n",
       "    </tr>\n",
       "    <tr>\n",
       "      <th>50%</th>\n",
       "      <td>75.500000</td>\n",
       "      <td>5.800000</td>\n",
       "      <td>3.000000</td>\n",
       "      <td>4.350000</td>\n",
       "      <td>1.300000</td>\n",
       "    </tr>\n",
       "    <tr>\n",
       "      <th>75%</th>\n",
       "      <td>112.750000</td>\n",
       "      <td>6.400000</td>\n",
       "      <td>3.300000</td>\n",
       "      <td>5.100000</td>\n",
       "      <td>1.800000</td>\n",
       "    </tr>\n",
       "    <tr>\n",
       "      <th>max</th>\n",
       "      <td>150.000000</td>\n",
       "      <td>7.900000</td>\n",
       "      <td>4.400000</td>\n",
       "      <td>6.900000</td>\n",
       "      <td>2.500000</td>\n",
       "    </tr>\n",
       "  </tbody>\n",
       "</table>\n",
       "</div>"
      ],
      "text/plain": [
       "               Id  SepalLengthCm  SepalWidthCm  PetalLengthCm  PetalWidthCm\n",
       "count  150.000000     150.000000    150.000000     150.000000    150.000000\n",
       "mean    75.500000       5.843333      3.054000       3.758667      1.198667\n",
       "std     43.445368       0.828066      0.433594       1.764420      0.763161\n",
       "min      1.000000       4.300000      2.000000       1.000000      0.100000\n",
       "25%     38.250000       5.100000      2.800000       1.600000      0.300000\n",
       "50%     75.500000       5.800000      3.000000       4.350000      1.300000\n",
       "75%    112.750000       6.400000      3.300000       5.100000      1.800000\n",
       "max    150.000000       7.900000      4.400000       6.900000      2.500000"
      ]
     },
     "execution_count": 46,
     "metadata": {},
     "output_type": "execute_result"
    }
   ],
   "source": [
    "df.describe()"
   ]
  },
  {
   "cell_type": "markdown",
   "metadata": {},
   "source": [
    "### EXPLORATORY DATA ANALYSIS"
   ]
  },
  {
   "cell_type": "code",
   "execution_count": 47,
   "metadata": {
    "execution": {
     "iopub.execute_input": "2023-08-13T08:34:35.594519Z",
     "iopub.status.busy": "2023-08-13T08:34:35.594013Z",
     "iopub.status.idle": "2023-08-13T08:34:35.838498Z",
     "shell.execute_reply": "2023-08-13T08:34:35.837471Z",
     "shell.execute_reply.started": "2023-08-13T08:34:35.594493Z"
    }
   },
   "outputs": [
    {
     "data": {
      "text/plain": [
       "<Axes: xlabel='Species', ylabel='PetalLengthCm'>"
      ]
     },
     "execution_count": 47,
     "metadata": {},
     "output_type": "execute_result"
    },
    {
     "data": {
      "image/png": "[encoded data removed]",
      "text/plain": [
       "<Figure size 640x480 with 1 Axes>"
      ]
     },
     "metadata": {},
     "output_type": "display_data"
    }
   ],
   "source": [
    "sns.barplot(x='Species',y='PetalLengthCm',data=df)"
   ]
  },
  {
   "cell_type": "code",
   "execution_count": 49,
   "metadata": {
    "execution": {
     "iopub.execute_input": "2023-08-13T08:34:35.839778Z",
     "iopub.status.busy": "2023-08-13T08:34:35.839502Z",
     "iopub.status.idle": "2023-08-13T08:34:36.070056Z",
     "shell.execute_reply": "2023-08-13T08:34:36.069218Z",
     "shell.execute_reply.started": "2023-08-13T08:34:35.839743Z"
    }
   },
   "outputs": [
    {
     "data": {
      "text/plain": [
       "<Axes: xlabel='Species', ylabel='SepalLengthCm'>"
      ]
     },
     "execution_count": 49,
     "metadata": {},
     "output_type": "execute_result"
    },
    {
     "data": {
      "image/png": "[encoded data removed]",
      "text/plain": [
       "<Figure size 640x480 with 1 Axes>"
      ]
     },
     "metadata": {},
     "output_type": "display_data"
    }
   ],
   "source": [
    "sns.barplot(x='Species',y='SepalLengthCm',data=df)"
   ]
  },
  {
   "cell_type": "code",
   "execution_count": 50,
   "metadata": {
    "execution": {
     "iopub.execute_input": "2023-08-13T08:34:36.071413Z",
     "iopub.status.busy": "2023-08-13T08:34:36.071164Z",
     "iopub.status.idle": "2023-08-13T08:34:36.323374Z",
     "shell.execute_reply": "2023-08-13T08:34:36.322073Z",
     "shell.execute_reply.started": "2023-08-13T08:34:36.071391Z"
    }
   },
   "outputs": [
    {
     "data": {
      "text/plain": [
       "<Axes: xlabel='Species', ylabel='PetalWidthCm'>"
      ]
     },
     "execution_count": 50,
     "metadata": {},
     "output_type": "execute_result"
    },
    {
     "data": {
      "image/png": "[encoded data removed]",
      "text/plain": [
       "<Figure size 640x480 with 1 Axes>"
      ]
     },
     "metadata": {},
     "output_type": "display_data"
    }
   ],
   "source": [
    "sns.barplot(x='Species',y='PetalWidthCm',data=df)"
   ]
  },
  {
   "cell_type": "code",
   "execution_count": 51,
   "metadata": {
    "execution": {
     "iopub.execute_input": "2023-08-13T08:34:36.328567Z",
     "iopub.status.busy": "2023-08-13T08:34:36.327364Z",
     "iopub.status.idle": "2023-08-13T08:34:36.566074Z",
     "shell.execute_reply": "2023-08-13T08:34:36.564748Z",
     "shell.execute_reply.started": "2023-08-13T08:34:36.328531Z"
    }
   },
   "outputs": [
    {
     "data": {
      "text/plain": [
       "<Axes: xlabel='Species', ylabel='SepalLengthCm'>"
      ]
     },
     "execution_count": 51,
     "metadata": {},
     "output_type": "execute_result"
    },
    {
     "data": {
      "image/png": "[encoded data removed]",
      "text/plain": [
       "<Figure size 640x480 with 1 Axes>"
      ]
     },
     "metadata": {},
     "output_type": "display_data"
    }
   ],
   "source": [
    "sns.barplot(x='Species',y='SepalLengthCm',data=df)"
   ]
  },
  {
   "cell_type": "code",
   "execution_count": 52,
   "metadata": {
    "execution": {
     "iopub.execute_input": "2023-08-13T08:34:36.569135Z",
     "iopub.status.busy": "2023-08-13T08:34:36.568670Z",
     "iopub.status.idle": "2023-08-13T08:34:36.854542Z",
     "shell.execute_reply": "2023-08-13T08:34:36.853595Z",
     "shell.execute_reply.started": "2023-08-13T08:34:36.569096Z"
    }
   },
   "outputs": [
    {
     "data": {
      "text/plain": [
       "<Axes: >"
      ]
     },
     "execution_count": 52,
     "metadata": {},
     "output_type": "execute_result"
    },
    {
     "data": {
      "image/png": "[encoded data removed]",
      "text/plain": [
       "<Figure size 640x480 with 2 Axes>"
      ]
     },
     "metadata": {},
     "output_type": "display_data"
    }
   ],
   "source": [
    "sns.heatmap(df.corr(numeric_only=True), annot=True)"
   ]
  },
  {
   "cell_type": "markdown",
   "metadata": {},
   "source": [
    "### CONVERSION INTO NUMERIC ENTITY"
   ]
  },
  {
   "cell_type": "code",
   "execution_count": 53,
   "metadata": {
    "execution": {
     "iopub.execute_input": "2023-08-13T08:34:36.856079Z",
     "iopub.status.busy": "2023-08-13T08:34:36.855777Z",
     "iopub.status.idle": "2023-08-13T08:34:36.864143Z",
     "shell.execute_reply": "2023-08-13T08:34:36.862999Z",
     "shell.execute_reply.started": "2023-08-13T08:34:36.856052Z"
    }
   },
   "outputs": [
    {
     "data": {
      "text/plain": [
       "array(['Iris-setosa', 'Iris-versicolor', 'Iris-virginica'], dtype=object)"
      ]
     },
     "execution_count": 53,
     "metadata": {},
     "output_type": "execute_result"
    }
   ],
   "source": [
    "df['Species'].unique()"
   ]
  },
  {
   "cell_type": "code",
   "execution_count": 54,
   "metadata": {
    "execution": {
     "iopub.execute_input": "2023-08-13T08:34:36.865739Z",
     "iopub.status.busy": "2023-08-13T08:34:36.865487Z",
     "iopub.status.idle": "2023-08-13T08:34:36.875973Z",
     "shell.execute_reply": "2023-08-13T08:34:36.874449Z",
     "shell.execute_reply.started": "2023-08-13T08:34:36.865716Z"
    }
   },
   "outputs": [],
   "source": [
    "df['Species'].replace({'Iris-setosa':0,'Iris-versicolor':1,'Iris-virginica':2},inplace=True)"
   ]
  },
  {
   "cell_type": "markdown",
   "metadata": {},
   "source": [
    "### SPLITTING INTO TRAINING SET AND TESTING SET"
   ]
  },
  {
   "cell_type": "code",
   "execution_count": 55,
   "metadata": {
    "execution": {
     "iopub.execute_input": "2023-08-13T08:34:36.877380Z",
     "iopub.status.busy": "2023-08-13T08:34:36.877131Z",
     "iopub.status.idle": "2023-08-13T08:34:36.942755Z",
     "shell.execute_reply": "2023-08-13T08:34:36.941220Z",
     "shell.execute_reply.started": "2023-08-13T08:34:36.877359Z"
    }
   },
   "outputs": [],
   "source": [
    "from sklearn.model_selection import train_test_split\n",
    "x=df.drop(['Species'],axis=1)\n",
    "y=df['Species']\n",
    "x_train,x_test,y_train,y_test=train_test_split(x,y,random_state=42,train_size=0.9)"
   ]
  },
  {
   "cell_type": "markdown",
   "metadata": {},
   "source": [
    "### MODEL DEVELOPMENT"
   ]
  },
  {
   "cell_type": "code",
   "execution_count": 56,
   "metadata": {
    "execution": {
     "iopub.execute_input": "2023-08-13T08:34:36.945060Z",
     "iopub.status.busy": "2023-08-13T08:34:36.944303Z",
     "iopub.status.idle": "2023-08-13T08:34:37.014467Z",
     "shell.execute_reply": "2023-08-13T08:34:37.013046Z",
     "shell.execute_reply.started": "2023-08-13T08:34:36.945027Z"
    }
   },
   "outputs": [],
   "source": [
    "from sklearn.linear_model import LogisticRegression\n",
    "from sklearn.tree import DecisionTreeClassifier\n",
    "from sklearn.neighbors import KNeighborsClassifier\n",
    "from sklearn.ensemble import RandomForestClassifier\n",
    "from sklearn.ensemble import BaggingClassifier\n",
    "from sklearn.ensemble import AdaBoostClassifier\n",
    "from sklearn.svm import SVC\n",
    "from xgboost import XGBClassifier\n",
    "from sklearn.ensemble import ExtraTreesClassifier"
   ]
  },
  {
   "cell_type": "code",
   "execution_count": 57,
   "metadata": {
    "execution": {
     "iopub.execute_input": "2023-08-13T08:35:11.985462Z",
     "iopub.status.busy": "2023-08-13T08:35:11.985089Z",
     "iopub.status.idle": "2023-08-13T08:35:11.991816Z",
     "shell.execute_reply": "2023-08-13T08:35:11.990846Z",
     "shell.execute_reply.started": "2023-08-13T08:35:11.985416Z"
    }
   },
   "outputs": [],
   "source": [
    "svc = SVC()\n",
    "knc = KNeighborsClassifier()\n",
    "lr = LogisticRegression(solver='liblinear', penalty='l1')\n",
    "dtc = DecisionTreeClassifier(max_depth=5)\n",
    "rfc = RandomForestClassifier(n_estimators=50, random_state=2)\n",
    "abc = AdaBoostClassifier(n_estimators=50, random_state=2)\n",
    "bc = BaggingClassifier(n_estimators=50, random_state=2)\n",
    "etc = ExtraTreesClassifier(n_estimators=50, random_state=2)"
   ]
  },
  {
   "cell_type": "code",
   "execution_count": 58,
   "metadata": {
    "execution": {
     "iopub.execute_input": "2023-08-13T08:35:12.345764Z",
     "iopub.status.busy": "2023-08-13T08:35:12.345395Z",
     "iopub.status.idle": "2023-08-13T08:35:12.352320Z",
     "shell.execute_reply": "2023-08-13T08:35:12.350565Z",
     "shell.execute_reply.started": "2023-08-13T08:35:12.345738Z"
    }
   },
   "outputs": [],
   "source": [
    "algos={\n",
    "    'SVC':svc,\n",
    "    'KNC':knc,\n",
    "    'LR':lr,\n",
    "    'DTC':dtc,\n",
    "    'RFC':rfc,\n",
    "    'ABC':abc,\n",
    "    'BC':bc,\n",
    "    'ETC':etc\n",
    "}"
   ]
  },
  {
   "cell_type": "code",
   "execution_count": 59,
   "metadata": {
    "execution": {
     "iopub.execute_input": "2023-08-13T08:35:12.885423Z",
     "iopub.status.busy": "2023-08-13T08:35:12.885088Z",
     "iopub.status.idle": "2023-08-13T08:35:12.889633Z",
     "shell.execute_reply": "2023-08-13T08:35:12.888628Z",
     "shell.execute_reply.started": "2023-08-13T08:35:12.885398Z"
    }
   },
   "outputs": [],
   "source": [
    "from sklearn.metrics import accuracy_score,confusion_matrix,precision_score\n"
   ]
  },
  {
   "cell_type": "code",
   "execution_count": 60,
   "metadata": {
    "execution": {
     "iopub.execute_input": "2023-08-13T08:35:13.436189Z",
     "iopub.status.busy": "2023-08-13T08:35:13.435756Z",
     "iopub.status.idle": "2023-08-13T08:35:13.782582Z",
     "shell.execute_reply": "2023-08-13T08:35:13.781679Z",
     "shell.execute_reply.started": "2023-08-13T08:35:13.436151Z"
    }
   },
   "outputs": [],
   "source": [
    "pre_acc = {}\n",
    "for name,algo in algos.items():\n",
    "    algo.fit(x_train, y_train)\n",
    "    y_pred = algo.predict(x_test)\n",
    "    pre_acc[name] = {\n",
    "        'Precision': precision_score(y_test, y_pred,average='weighted'),\n",
    "        'Accuracy': accuracy_score(y_test, y_pred),\n",
    "        'Confusion Matrix': confusion_matrix(y_test, y_pred)\n",
    "    }"
   ]
  },
  {
   "cell_type": "code",
   "execution_count": 61,
   "metadata": {
    "execution": {
     "iopub.execute_input": "2023-08-13T08:35:25.985602Z",
     "iopub.status.busy": "2023-08-13T08:35:25.985207Z",
     "iopub.status.idle": "2023-08-13T08:35:25.993940Z",
     "shell.execute_reply": "2023-08-13T08:35:25.992972Z",
     "shell.execute_reply.started": "2023-08-13T08:35:25.985571Z"
    }
   },
   "outputs": [
    {
     "data": {
      "text/plain": [
       "{'SVC': {'Precision': 1.0,\n",
       "  'Accuracy': 1.0,\n",
       "  'Confusion Matrix': array([[6, 0, 0],\n",
       "         [0, 6, 0],\n",
       "         [0, 0, 3]], dtype=int64)},\n",
       " 'KNC': {'Precision': 1.0,\n",
       "  'Accuracy': 1.0,\n",
       "  'Confusion Matrix': array([[6, 0, 0],\n",
       "         [0, 6, 0],\n",
       "         [0, 0, 3]], dtype=int64)},\n",
       " 'LR': {'Precision': 1.0,\n",
       "  'Accuracy': 1.0,\n",
       "  'Confusion Matrix': array([[6, 0, 0],\n",
       "         [0, 6, 0],\n",
       "         [0, 0, 3]], dtype=int64)},\n",
       " 'DTC': {'Precision': 1.0,\n",
       "  'Accuracy': 1.0,\n",
       "  'Confusion Matrix': array([[6, 0, 0],\n",
       "         [0, 6, 0],\n",
       "         [0, 0, 3]], dtype=int64)},\n",
       " 'RFC': {'Precision': 1.0,\n",
       "  'Accuracy': 1.0,\n",
       "  'Confusion Matrix': array([[6, 0, 0],\n",
       "         [0, 6, 0],\n",
       "         [0, 0, 3]], dtype=int64)},\n",
       " 'ABC': {'Precision': 1.0,\n",
       "  'Accuracy': 1.0,\n",
       "  'Confusion Matrix': array([[6, 0, 0],\n",
       "         [0, 6, 0],\n",
       "         [0, 0, 3]], dtype=int64)},\n",
       " 'BC': {'Precision': 1.0,\n",
       "  'Accuracy': 1.0,\n",
       "  'Confusion Matrix': array([[6, 0, 0],\n",
       "         [0, 6, 0],\n",
       "         [0, 0, 3]], dtype=int64)},\n",
       " 'ETC': {'Precision': 1.0,\n",
       "  'Accuracy': 1.0,\n",
       "  'Confusion Matrix': array([[6, 0, 0],\n",
       "         [0, 6, 0],\n",
       "         [0, 0, 3]], dtype=int64)}}"
      ]
     },
     "execution_count": 61,
     "metadata": {},
     "output_type": "execute_result"
    }
   ],
   "source": [
    "pre_acc"
   ]
  },
  {
   "cell_type": "code",
   "execution_count": 62,
   "metadata": {
    "execution": {
     "iopub.execute_input": "2023-08-13T08:37:09.186232Z",
     "iopub.status.busy": "2023-08-13T08:37:09.185878Z",
     "iopub.status.idle": "2023-08-13T08:37:09.197667Z",
     "shell.execute_reply": "2023-08-13T08:37:09.196115Z",
     "shell.execute_reply.started": "2023-08-13T08:37:09.186205Z"
    }
   },
   "outputs": [],
   "source": [
    "'''\n",
    "Lets normalize the values and see if anything works\n",
    "'''\n",
    "from sklearn.preprocessing import StandardScaler\n",
    "scaler=StandardScaler()\n",
    "x_train=scaler.fit_transform(x_train)\n",
    "x_test=scaler.transform(x_test)"
   ]
  },
  {
   "cell_type": "code",
   "execution_count": 63,
   "metadata": {
    "execution": {
     "iopub.execute_input": "2023-08-13T08:37:23.095742Z",
     "iopub.status.busy": "2023-08-13T08:37:23.095370Z",
     "iopub.status.idle": "2023-08-13T08:37:23.429165Z",
     "shell.execute_reply": "2023-08-13T08:37:23.427490Z",
     "shell.execute_reply.started": "2023-08-13T08:37:23.095701Z"
    }
   },
   "outputs": [],
   "source": [
    "pre_acc_2 = {}\n",
    "for name,algo in algos.items():\n",
    "    algo.fit(x_train, y_train)\n",
    "    y_pred = algo.predict(x_test)\n",
    "    pre_acc_2[name] = {\n",
    "        'Precision': precision_score(y_test, y_pred,average='weighted'),\n",
    "        'Accuracy': accuracy_score(y_test, y_pred),\n",
    "        'Confusion Matrix': confusion_matrix(y_test, y_pred)\n",
    "    }"
   ]
  },
  {
   "cell_type": "code",
   "execution_count": 64,
   "metadata": {
    "execution": {
     "iopub.execute_input": "2023-08-13T08:37:30.275907Z",
     "iopub.status.busy": "2023-08-13T08:37:30.275501Z",
     "iopub.status.idle": "2023-08-13T08:37:30.285490Z",
     "shell.execute_reply": "2023-08-13T08:37:30.284059Z",
     "shell.execute_reply.started": "2023-08-13T08:37:30.275877Z"
    }
   },
   "outputs": [
    {
     "data": {
      "text/plain": [
       "{'SVC': {'Precision': 1.0,\n",
       "  'Accuracy': 1.0,\n",
       "  'Confusion Matrix': array([[6, 0, 0],\n",
       "         [0, 6, 0],\n",
       "         [0, 0, 3]], dtype=int64)},\n",
       " 'KNC': {'Precision': 1.0,\n",
       "  'Accuracy': 1.0,\n",
       "  'Confusion Matrix': array([[6, 0, 0],\n",
       "         [0, 6, 0],\n",
       "         [0, 0, 3]], dtype=int64)},\n",
       " 'LR': {'Precision': 1.0,\n",
       "  'Accuracy': 1.0,\n",
       "  'Confusion Matrix': array([[6, 0, 0],\n",
       "         [0, 6, 0],\n",
       "         [0, 0, 3]], dtype=int64)},\n",
       " 'DTC': {'Precision': 1.0,\n",
       "  'Accuracy': 1.0,\n",
       "  'Confusion Matrix': array([[6, 0, 0],\n",
       "         [0, 6, 0],\n",
       "         [0, 0, 3]], dtype=int64)},\n",
       " 'RFC': {'Precision': 1.0,\n",
       "  'Accuracy': 1.0,\n",
       "  'Confusion Matrix': array([[6, 0, 0],\n",
       "         [0, 6, 0],\n",
       "         [0, 0, 3]], dtype=int64)},\n",
       " 'ABC': {'Precision': 1.0,\n",
       "  'Accuracy': 1.0,\n",
       "  'Confusion Matrix': array([[6, 0, 0],\n",
       "         [0, 6, 0],\n",
       "         [0, 0, 3]], dtype=int64)},\n",
       " 'BC': {'Precision': 1.0,\n",
       "  'Accuracy': 1.0,\n",
       "  'Confusion Matrix': array([[6, 0, 0],\n",
       "         [0, 6, 0],\n",
       "         [0, 0, 3]], dtype=int64)},\n",
       " 'ETC': {'Precision': 1.0,\n",
       "  'Accuracy': 1.0,\n",
       "  'Confusion Matrix': array([[6, 0, 0],\n",
       "         [0, 6, 0],\n",
       "         [0, 0, 3]], dtype=int64)}}"
      ]
     },
     "execution_count": 64,
     "metadata": {},
     "output_type": "execute_result"
    }
   ],
   "source": [
    "pre_acc_2"
   ]
  },
  {
   "cell_type": "markdown",
   "metadata": {},
   "source": [
    "### SAVING MODEL"
   ]
  },
  {
   "cell_type": "code",
   "execution_count": 66,
   "metadata": {},
   "outputs": [],
   "source": [
    "import joblib as jb"
   ]
  },
  {
   "cell_type": "code",
   "execution_count": 67,
   "metadata": {},
   "outputs": [
    {
     "data": {
      "text/plain": [
       "['iris_flower_classification']"
      ]
     },
     "execution_count": 67,
     "metadata": {},
     "output_type": "execute_result"
    }
   ],
   "source": [
    "jb.dump(pre_acc, 'iris_flower_classification')"
   ]
  },
  {
   "cell_type": "code",
   "execution_count": 68,
   "metadata": {},
   "outputs": [],
   "source": [
    "pre_acc = jb.load('iris_flower_classification')"
   ]
  },
  {
   "cell_type": "code",
   "execution_count": 69,
   "metadata": {},
   "outputs": [
    {
     "data": {
      "text/plain": [
       "Index(['Id', 'SepalLengthCm', 'SepalWidthCm', 'PetalLengthCm', 'PetalWidthCm',\n",
       "       'Species'],\n",
       "      dtype='object')"
      ]
     },
     "execution_count": 69,
     "metadata": {},
     "output_type": "execute_result"
    }
   ],
   "source": [
    "df.columns"
   ]
  },
  {
   "cell_type": "code",
   "execution_count": null,
   "metadata": {},
   "outputs": [],
   "source": []
  }
 ],
 "metadata": {
  "kernelspec": {
   "display_name": "Python 3 (ipykernel)",
   "language": "python",
   "name": "python3"
  },
  "language_info": {
   "codemirror_mode": {
    "name": "ipython",
    "version": 3
   },
   "file_extension": ".py",
   "mimetype": "text/x-python",
   "name": "python",
   "nbconvert_exporter": "python",
   "pygments_lexer": "ipython3",
   "version": "3.10.9"
  }
 },
 "nbformat": 4,
 "nbformat_minor": 4
}
